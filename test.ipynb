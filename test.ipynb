{
 "cells": [
  {
   "cell_type": "code",
   "execution_count": 1,
   "metadata": {},
   "outputs": [
    {
     "name": "stdout",
     "output_type": "stream",
     "text": [
      "16\n"
     ]
    }
   ],
   "source": [
    "def min_starting_energy(buildings):\n",
    "    energy = 0\n",
    "    min_energy = 0\n",
    "\n",
    "    for height in buildings:\n",
    "        if energy < height:\n",
    "            min_energy += height - energy\n",
    "        else:\n",
    "            energy -= energy - height\n",
    "\n",
    "    return min_energy\n",
    "\n",
    "# Reading input\n",
    "n = int(input())  # Number of buildings\n",
    "buildings = list(map(int, input().split()))  # Heights of the buildings\n",
    "\n",
    "# Calling the function and printing the result\n",
    "result = min_starting_energy(buildings)\n",
    "print(result)"
   ]
  },
  {
   "cell_type": "code",
   "execution_count": 2,
   "metadata": {},
   "outputs": [
    {
     "name": "stdout",
     "output_type": "stream",
     "text": [
      "babacc\n",
      "-1\n",
      "-1\n"
     ]
    }
   ],
   "source": [
    "def find_string(p, q):\n",
    "    # Sort the strings in ascending order\n",
    "    p_sorted = ''.join(sorted(p))\n",
    "    q_sorted = ''.join(sorted(q))\n",
    "    \n",
    "    # Check if the sorted strings are equal\n",
    "    if p_sorted != q_sorted:\n",
    "        return -1\n",
    "    \n",
    "    # Helper function to find the lexicographically smallest string recursively\n",
    "    def find_smallest_string(p, q):\n",
    "        # Base case: If both strings are empty, return an empty string\n",
    "        if not p and not q:\n",
    "            return ''\n",
    "        \n",
    "        # Recursive cases\n",
    "        if p and (not q or p[0] <= q[0]):\n",
    "            return p[0] + find_smallest_string(p[1:], q)\n",
    "        \n",
    "        if q and (not p or q[0] <= p[0]):\n",
    "            return q[0] + find_smallest_string(p, q[1:])\n",
    "    \n",
    "    # Call the helper function and return the result\n",
    "    result = find_smallest_string(p, q)\n",
    "    return result\n",
    "\n",
    "# Reading input\n",
    "n = int(input())  # Number of test cases\n",
    "\n",
    "for _ in range(n):\n",
    "    p = input().strip()  # String p\n",
    "    q = input().strip()  # String q\n",
    "\n",
    "    # Calling the function and printing the result\n",
    "    result = find_string(p, q)\n",
    "    print(result)"
   ]
  }
 ],
 "metadata": {
  "kernelspec": {
   "display_name": "Python 3",
   "language": "python",
   "name": "python3"
  },
  "language_info": {
   "codemirror_mode": {
    "name": "ipython",
    "version": 3
   },
   "file_extension": ".py",
   "mimetype": "text/x-python",
   "name": "python",
   "nbconvert_exporter": "python",
   "pygments_lexer": "ipython3",
   "version": "3.11.1"
  },
  "orig_nbformat": 4
 },
 "nbformat": 4,
 "nbformat_minor": 2
}
