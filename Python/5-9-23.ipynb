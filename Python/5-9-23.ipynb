{
 "cells": [
  {
   "attachments": {},
   "cell_type": "markdown",
   "metadata": {},
   "source": [
    "Pthon Datatype \n",
    "List."
   ]
  },
  {
   "cell_type": "code",
   "execution_count": 61,
   "metadata": {},
   "outputs": [],
   "source": [
    "list = [2,3,4,5,10]"
   ]
  },
  {
   "attachments": {},
   "cell_type": "markdown",
   "metadata": {},
   "source": [
    "Basic List operaions"
   ]
  },
  {
   "cell_type": "code",
   "execution_count": 62,
   "metadata": {},
   "outputs": [
    {
     "name": "stdout",
     "output_type": "stream",
     "text": [
      "List operations.\n",
      "[2, 3, 4, 5, 10]\n",
      "* operations \t [2, 3, 4, 5, 10, 2, 3, 4, 5, 10, 2, 3, 4, 5, 10, 2, 3, 4, 5, 10]\n"
     ]
    }
   ],
   "source": [
    "print(\"List operations.\")\n",
    "print(list)\n",
    "print(\"* operations \\t\" , list*4)"
   ]
  },
  {
   "attachments": {},
   "cell_type": "markdown",
   "metadata": {},
   "source": [
    "Slice operator (:)\n",
    "\n",
    "list[a:b]\n",
    "a = start for that position\n",
    "b = upto ehat u want to print form the list"
   ]
  },
  {
   "cell_type": "code",
   "execution_count": 63,
   "metadata": {},
   "outputs": [
    {
     "name": "stdout",
     "output_type": "stream",
     "text": [
      "Slice operator\t [2, 3, 4]\n"
     ]
    }
   ],
   "source": [
    "print(\"Slice operator\\t\" ,list[0:3])"
   ]
  },
  {
   "attachments": {},
   "cell_type": "markdown",
   "metadata": {},
   "source": [
    "Pyhton program to swap two elements in the list.\n",
    "\n",
    "a , b = b , a "
   ]
  },
  {
   "cell_type": "code",
   "execution_count": 64,
   "metadata": {},
   "outputs": [
    {
     "name": "stdout",
     "output_type": "stream",
     "text": [
      "[1, 2, 3, 4, 5, 6, 7]\n",
      "\n",
      "After swap : \n",
      " [1, 5, 3, 4, 2, 6, 7]\n"
     ]
    }
   ],
   "source": [
    "program_1_list=[1,2,3,4,5,6,7]\n",
    "print(program_1_list)\n",
    "pos1 = 4\n",
    "pos2 = 1\n",
    "program_1_list[pos1],program_1_list[pos2] = program_1_list[pos2],program_1_list[pos1] \n",
    "print(\"\\nAfter swap : \\n\",program_1_list)"
   ]
  },
  {
   "attachments": {},
   "cell_type": "markdown",
   "metadata": {},
   "source": [
    "Create a function for swap "
   ]
  },
  {
   "cell_type": "code",
   "execution_count": 65,
   "metadata": {},
   "outputs": [
    {
     "data": {
      "text/plain": [
       "[2, 5, 3, 4, 1, 6, 7]"
      ]
     },
     "execution_count": 65,
     "metadata": {},
     "output_type": "execute_result"
    }
   ],
   "source": [
    "def swapFucntion(a,pos1,pos2):\n",
    "    a[pos1],a[pos2] =a[pos2] ,a[pos1] \n",
    "    return a\n",
    "swapFucntion(program_1_list,0,4)"
   ]
  },
  {
   "attachments": {},
   "cell_type": "markdown",
   "metadata": {},
   "source": [
    "Progrma to find max for 2 number in pyhton"
   ]
  },
  {
   "cell_type": "code",
   "execution_count": 66,
   "metadata": {},
   "outputs": [
    {
     "name": "stdout",
     "output_type": "stream",
     "text": [
      "171\n"
     ]
    }
   ],
   "source": [
    "list1 = [1,23,4,5,6,7,8,9,10,11,14,15,171,19]\n",
    "print(max(list1))"
   ]
  },
  {
   "attachments": {},
   "cell_type": "markdown",
   "metadata": {},
   "source": [
    "Progrma to find min for 2 number in pyhton"
   ]
  },
  {
   "cell_type": "code",
   "execution_count": 67,
   "metadata": {},
   "outputs": [
    {
     "name": "stdout",
     "output_type": "stream",
     "text": [
      "1\n"
     ]
    }
   ],
   "source": [
    "print(min(list1))"
   ]
  },
  {
   "attachments": {},
   "cell_type": "markdown",
   "metadata": {},
   "source": [
    "Progrma to rever a list in pyhton"
   ]
  },
  {
   "cell_type": "code",
   "execution_count": 68,
   "metadata": {},
   "outputs": [
    {
     "name": "stdout",
     "output_type": "stream",
     "text": [
      "[10, 9, 8, 7, 6, 5, 4, 3, 2, 1]\n"
     ]
    }
   ],
   "source": [
    "revers_List = [1,2,3,4,5,6,7,8,9,10]\n",
    "revers_List.reverse()\n",
    "print(revers_List)"
   ]
  },
  {
   "attachments": {},
   "cell_type": "markdown",
   "metadata": {},
   "source": [
    "Find Latgest elemet in list with logic."
   ]
  },
  {
   "cell_type": "code",
   "execution_count": 69,
   "metadata": {},
   "outputs": [
    {
     "name": "stdout",
     "output_type": "stream",
     "text": [
      "Largest elemen:   10\n"
     ]
    }
   ],
   "source": [
    "largest_number_list=[1,2,4,6,8,9,6,4,10]\n",
    "largest_number_list.sort()\n",
    "print(\"Largest elemen:  \" ,largest_number_list[-1] )"
   ]
  },
  {
   "cell_type": "code",
   "execution_count": 70,
   "metadata": {},
   "outputs": [
    {
     "name": "stdout",
     "output_type": "stream",
     "text": [
      "10\n"
     ]
    }
   ],
   "source": [
    "temp = largest_number_list[0]\n",
    "for x in largest_number_list:\n",
    "    \n",
    "    if temp > x:\n",
    "         temp = temp\n",
    "    if temp< x :\n",
    "         temp = x\n",
    "print(temp)"
   ]
  },
  {
   "attachments": {},
   "cell_type": "markdown",
   "metadata": {},
   "source": [
    "TupleSet DataType\n",
    "It is immutale (You cannot change once defined)\n"
   ]
  },
  {
   "attachments": {},
   "cell_type": "markdown",
   "metadata": {},
   "source": [
    "Set Datatype\n",
    "Set will not print repated values"
   ]
  },
  {
   "cell_type": "code",
   "execution_count": 71,
   "metadata": {},
   "outputs": [
    {
     "name": "stdout",
     "output_type": "stream",
     "text": [
      "{1, 2, 3, 4, 5, 6, 7, 8, 10}\n",
      "{1, 2, 3, 4, 5, 6, 7, 8, 10, 13}\n",
      "{1, 2, 3, 4, 5, 6, 7, 8, 13}\n"
     ]
    }
   ],
   "source": [
    "Set = {2,3,4,5,6,7,8,10,1}\n",
    "print(Set)\n",
    "# add in SET\n",
    "Set.add(13)\n",
    "print(Set)\n",
    "# remove from set\n",
    "Set.remove(10)\n",
    "print(Set)"
   ]
  },
  {
   "cell_type": "code",
   "execution_count": 72,
   "metadata": {},
   "outputs": [
    {
     "name": "stdout",
     "output_type": "stream",
     "text": [
      "{1, 2, 3, 4, 5, 6, 7, 8, 9}\n",
      "Max: \t 9\n",
      "Min: \t 1\n",
      "set()\n"
     ]
    }
   ],
   "source": [
    "a = [1,2,3,4,5,6,7,8,9]\n",
    "set1 = set(a)\n",
    "print(set1)\n",
    "print(\"Max: \\t\" , max(set1))\n",
    "print(\"Min: \\t\" , min(set1))\n",
    "set2={10,11,12,13,14,15,16}\n",
    "s = set1.intersection(set2)\n",
    "print(s)\n"
   ]
  },
  {
   "cell_type": "code",
   "execution_count": null,
   "metadata": {},
   "outputs": [],
   "source": [
    "def IntersecofSets(ar1,ar2,ar3):\n",
    "    s1 = set(ar1)\n",
    "    s2 = set(ar2)\n",
    "    s3 = set(ar3)\n",
    "    set1 = s1.intersection(s2)\n",
    "    result_set = set1.intersection(s3)\n",
    "    final_list = list(result_set)\n",
    "    print(final_list)\n",
    "if __name__ == '__main__':\n",
    "    ar1 = {1,2,34,10,12,20,24}\n",
    "    ar2 = {5,2,6,10,15}\n",
    "    ar3 = {3,4,5,6,20,42,24}\n",
    "    IntersecofSets(ar1,ar2,ar3)"
   ]
  }
 ],
 "metadata": {
  "kernelspec": {
   "display_name": "Python 3",
   "language": "python",
   "name": "python3"
  },
  "language_info": {
   "codemirror_mode": {
    "name": "ipython",
    "version": 3
   },
   "file_extension": ".py",
   "mimetype": "text/x-python",
   "name": "python",
   "nbconvert_exporter": "python",
   "pygments_lexer": "ipython3",
   "version": "3.11.1"
  },
  "orig_nbformat": 4
 },
 "nbformat": 4,
 "nbformat_minor": 2
}
