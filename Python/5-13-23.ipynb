{
 "cells": [
  {
   "cell_type": "code",
   "execution_count": null,
   "metadata": {},
   "outputs": [],
   "source": [
    "def hurdelRace(k,height):\n",
    "\n",
    "    if max(height) -k >0 :\n",
    "        print(max(height) -k)\n",
    "    else:\n",
    "        print(\"0\")\n",
    "nautral_Jump_Heigth = int(input(\"Enter nautral jump heigth :\"))\n",
    "print(\"Enter the height of huddel\")\n",
    "height = list(map(int,input().split(\" \")))\n",
    "hurdelRace(nautral_Jump_Heigth,height)"
   ]
  },
  {
   "cell_type": "code",
   "execution_count": 12,
   "metadata": {},
   "outputs": [
    {
     "name": "stdout",
     "output_type": "stream",
     "text": [
      "4\n"
     ]
    }
   ],
   "source": [
    "# Python 3 program to count\n",
    "# maximum consecutive 1's\n",
    "# in a binary array.\n",
    "\n",
    "# Returns count of maximum\n",
    "# consecutive 1's in binary\n",
    "# array arr[0..n-1]\n",
    "def getMaxLength(arr, n):\n",
    "\tcount = 0\n",
    "\tresult = 0\n",
    "\tfor i in range(0, n):\n",
    "\t\tif (arr[i] == 0):\n",
    "\t\t\tcount = 0\n",
    "\t\telse:\n",
    "\t\t\tcount+= 1\n",
    "\t\t\tresult = max(result, count)\n",
    "\treturn result\n",
    "\n",
    "arr = [1, 1, 0, 0, 1, 0, 1,0, 1, 1, 1, 1]\n",
    "n = len(arr)\n",
    "\n",
    "print(getMaxLength(arr, n))\n",
    "\n"
   ]
  }
 ],
 "metadata": {
  "kernelspec": {
   "display_name": "Python 3",
   "language": "python",
   "name": "python3"
  },
  "language_info": {
   "codemirror_mode": {
    "name": "ipython",
    "version": 3
   },
   "file_extension": ".py",
   "mimetype": "text/x-python",
   "name": "python",
   "nbconvert_exporter": "python",
   "pygments_lexer": "ipython3",
   "version": "3.11.1"
  },
  "orig_nbformat": 4
 },
 "nbformat": 4,
 "nbformat_minor": 2
}
