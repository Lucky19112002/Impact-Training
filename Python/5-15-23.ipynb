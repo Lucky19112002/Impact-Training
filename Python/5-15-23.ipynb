{
 "cells": [
  {
   "attachments": {},
   "cell_type": "markdown",
   "metadata": {},
   "source": [
    "Give an integer n, write a function to count number of zero in a factorial."
   ]
  },
  {
   "cell_type": "code",
   "execution_count": 24,
   "metadata": {},
   "outputs": [
    {
     "name": "stdout",
     "output_type": "stream",
     "text": [
      "4\n"
     ]
    }
   ],
   "source": [
    "def factorial(n):\n",
    "    if n == 0:\n",
    "        return 1\n",
    "    else:\n",
    "        return n * factorial(n-1)\n",
    "def zero(data):\n",
    "    count = 0\n",
    "    result = 0\n",
    "    factorialss =  str(factorial(data))\n",
    "    for i in range(len(factorialss)):\n",
    "        if (factorialss[i] != \"0\"):\n",
    "            count = 0\n",
    "        else:\n",
    "            count+= 1\n",
    "            result = max(result, count)\n",
    "    print(\"Consacituive zeros are : \",result)\n",
    "\n",
    "n = int(input(\"Enter the number : \"))\n",
    "zero(n)"
   ]
  },
  {
   "cell_type": "markdown",
   "metadata": {},
   "source": []
  },
  {
   "cell_type": "code",
   "execution_count": 31,
   "metadata": {},
   "outputs": [
    {
     "name": "stdout",
     "output_type": "stream",
     "text": [
      "[1, 4, 5, 6, 9]\n"
     ]
    },
    {
     "data": {
      "text/plain": [
       "80"
      ]
     },
     "execution_count": 31,
     "metadata": {},
     "output_type": "execute_result"
    }
   ],
   "source": [
    "def functio(a,b):\n",
    "    A = sorted(a)\n",
    "    b = sorted(b , reverse=True)\n",
    "    val = 0\n",
    "    result = 0\n",
    "    for i in range(len(A)):\n",
    "        val = A[i] * b[i]\n",
    "        result = result + val                \n",
    "    return result\n",
    "\n",
    "\n",
    "a= list(map(int,input().split(\" \")))\n",
    "b = list(map(int,input().split(\" \")))\n",
    "functio(a,b)\n",
    "#6 1 9 5 4 \n",
    "#3 4 8 2 4"
   ]
  },
  {
   "attachments": {},
   "cell_type": "markdown",
   "metadata": {},
   "source": [
    "Create a object "
   ]
  },
  {
   "cell_type": "code",
   "execution_count": 37,
   "metadata": {},
   "outputs": [
    {
     "name": "stdout",
     "output_type": "stream",
     "text": [
      "Employee.__doc__: 5-15-23.ipynb\n",
      "Employee.__name__: Employee\n",
      "Employee.__module__: __main__\n",
      "Employee.__bases__: (<class 'object'>,)\n",
      "Employee.__dict__: {'__module__': '__main__', '__doc__': '5-15-23.ipynb', 'empCpunt': 2, '__init__': <function Employee.__init__ at 0x00000235D4FEBEC0>, 'disnplayEmployees': <function Employee.disnplayEmployees at 0x00000235D4FEB380>, 'displauCount': <function Employee.displauCount at 0x00000235D4FEAF20>, '__dict__': <attribute '__dict__' of 'Employee' objects>, '__weakref__': <attribute '__weakref__' of 'Employee' objects>}\n"
     ]
    }
   ],
   "source": [
    "class Employee:\n",
    "    '5-15-23.ipynb'\n",
    "    empCpunt =0\n",
    "    def __init__(self,name , salary):\n",
    "        self.name = name\n",
    "        self.salary = salary\n",
    "        Employee.empCpunt +=1\n",
    "    \n",
    "    def disnplayEmployees(self):\n",
    "        print(\"Name :\",self.name , \"Salaray :\", self.salary)\n",
    "\n",
    "    def displauCount(self):\n",
    "        print(\"Total Emplaoyy %d\" % Employee.empCpunt)\n",
    "\n",
    "emp1 = Employee(\"Lucky\",10000000)\n",
    "emp2 = Employee(\"Swet\", 12000000000000)\n",
    "\"\"\"emp1.disnplayEmployees()\n",
    "emp2.disnplayEmployees()\n",
    "emp1.displauCount()\"\"\"\n",
    "print(\"Employee.__doc__:\",Employee.__doc__)\n",
    "print(\"Employee.__name__:\",Employee.__name__)\n",
    "print(\"Employee.__module__:\",Employee.__module__)\n",
    "print(\"Employee.__bases__:\",Employee.__bases__)\n",
    "print(\"Employee.__dict__:\",Employee.__dict__)"
   ]
  },
  {
   "cell_type": "code",
   "execution_count": null,
   "metadata": {},
   "outputs": [],
   "source": [
    "class Vehical:\n",
    "    def __init__(self,name,milage,capacity):\n",
    "        self.name = name\n",
    "        self.milage = milage\n",
    "        self.max_speed = capacity\n",
    "        "
   ]
  },
  {
   "cell_type": "code",
   "execution_count": null,
   "metadata": {},
   "outputs": [],
   "source": []
  }
 ],
 "metadata": {
  "kernelspec": {
   "display_name": "Python 3",
   "language": "python",
   "name": "python3"
  },
  "language_info": {
   "codemirror_mode": {
    "name": "ipython",
    "version": 3
   },
   "file_extension": ".py",
   "mimetype": "text/x-python",
   "name": "python",
   "nbconvert_exporter": "python",
   "pygments_lexer": "ipython3",
   "version": "3.11.1"
  },
  "orig_nbformat": 4
 },
 "nbformat": 4,
 "nbformat_minor": 2
}
