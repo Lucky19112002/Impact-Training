{
 "cells": [
  {
   "attachments": {},
   "cell_type": "markdown",
   "metadata": {},
   "source": [
    "Dictionary :\n",
    " three ways to define the values.\n",
    "{ \n",
    "    key1 : 'Value1' ,\n",
    "    key2 : \"Value2\" ,\n",
    "    key3 : \"'Value3'\" \n",
    "}"
   ]
  },
  {
   "cell_type": "code",
   "execution_count": 1,
   "metadata": {},
   "outputs": [
    {
     "name": "stdout",
     "output_type": "stream",
     "text": [
      "{1: 'Mango', 2: 'Apple', 3: \"'Akioho'\"}\n",
      "keys : \n",
      " dict_keys([1, 2, 3])\n",
      "Values : \n",
      " dict_values(['Mango', 'Apple', \"'Akioho'\"])\n"
     ]
    }
   ],
   "source": [
    "a = {\n",
    "    1 : 'Mango' ,\n",
    "    2 : \"Apple\" ,\n",
    "    3 : \"'Akioho'\"\n",
    "}\n",
    "print(a)\n",
    "print(\"keys : \\n\",a.keys())\n",
    "print(\"Values : \\n\",a.values())"
   ]
  },
  {
   "attachments": {},
   "cell_type": "markdown",
   "metadata": {},
   "source": [
    "Problems on this.\n",
    "add 2  dictionary"
   ]
  },
  {
   "cell_type": "code",
   "execution_count": null,
   "metadata": {},
   "outputs": [],
   "source": [
    "def Merge(dic1,dic2):\n",
    "    return(dic2.update(dic1))\n",
    "b = {\n",
    "    'a' : 10 , 'b' : 8\n",
    "}\n",
    "Merge(a,b)\n",
    "print(\"After combin : \", b)\n",
    " "
   ]
  },
  {
   "attachments": {},
   "cell_type": "markdown",
   "metadata": {},
   "source": [
    "sorting in dicry"
   ]
  },
  {
   "cell_type": "code",
   "execution_count": null,
   "metadata": {},
   "outputs": [],
   "source": [
    "c = [\n",
    "    {\"name\" : \"lucky\" , \"age\" : 20},\n",
    "    {\"name\" : \"Swet\" , \"age\" : 22},\n",
    "    {\"name\" : \"Vashu\" , \"age\" : 19}\n",
    "]\n",
    "print(\"The list printed sorting by age : \\n\")\n",
    "print(sorted(c , key=lambda i: i['age']))\n",
    "print(\"\\r\")\n",
    "print(\"The list printed sorting by age and name: \\n\")\n",
    "print(sorted(c , key=lambda i: (i['age'], i['name'])))\n",
    "print(\"\\r\")\n",
    "print(\"The list printed sorting by age  in revers: \\n\")\n",
    "print(sorted(c , key=lambda i: i['age'] , reverse = True))"
   ]
  },
  {
   "attachments": {},
   "cell_type": "markdown",
   "metadata": {},
   "source": [
    "Revers String"
   ]
  },
  {
   "cell_type": "code",
   "execution_count": 12,
   "metadata": {},
   "outputs": [
    {
     "name": "stdout",
     "output_type": "stream",
     "text": [
      "bababa and apple is thhis Hellow\n"
     ]
    }
   ],
   "source": [
    "string = \"Hellow thhis is apple and bababa\"\n",
    "s = string.split()[::-1]\n",
    "l = []\n",
    "for i in s:\n",
    "    l.append(i)\n",
    "print(\" \".join(l))"
   ]
  },
  {
   "attachments": {},
   "cell_type": "markdown",
   "metadata": {},
   "source": [
    "revers string prolem"
   ]
  },
  {
   "cell_type": "code",
   "execution_count": 13,
   "metadata": {},
   "outputs": [
    {
     "name": "stdout",
     "output_type": "stream",
     "text": [
      "Without order =  n s P h u a m t o   i y\n",
      "With order =  P y h t o n   i s a u m\n"
     ]
    }
   ],
   "source": [
    "from collections import OrderedDict\n",
    "def removDubWithoutOrder(str):\n",
    "    return \" \".join(set(str))\n",
    "def removDubWithOrder(str):\n",
    "    return \" \".join(OrderedDict.fromkeys(str))\n",
    "if __name__ == \"__main__\":\n",
    "    str = \"Pyhton is aussmomm\"\n",
    "    print(\"Without order = \",removDubWithoutOrder(str))\n",
    "    print(\"With order = \",removDubWithOrder(str))\n",
    "    "
   ]
  },
  {
   "attachments": {},
   "cell_type": "markdown",
   "metadata": {},
   "source": [
    "find a word in string "
   ]
  },
  {
   "cell_type": "code",
   "execution_count": null,
   "metadata": {},
   "outputs": [],
   "source": [
    "import re\n",
    "test_str = 'Python is easy to learn'\n",
    "\n",
    "word = \" easy\"\n"
   ]
  }
 ],
 "metadata": {
  "kernelspec": {
   "display_name": "Python 3",
   "language": "python",
   "name": "python3"
  },
  "language_info": {
   "codemirror_mode": {
    "name": "ipython",
    "version": 3
   },
   "file_extension": ".py",
   "mimetype": "text/x-python",
   "name": "python",
   "nbconvert_exporter": "python",
   "pygments_lexer": "ipython3",
   "version": "3.11.1"
  },
  "orig_nbformat": 4
 },
 "nbformat": 4,
 "nbformat_minor": 2
}
