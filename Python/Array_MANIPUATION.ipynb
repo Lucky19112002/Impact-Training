{
 "cells": [
  {
   "attachments": {},
   "cell_type": "markdown",
   "metadata": {},
   "source": [
    "\n",
    "Problem Statement No. : 01\n",
    "\n",
    "\n",
    "There is a mess in the parcel section of the Head Office. The parcels that have to be loaded in the vans are lined up in a row randomly. The Head Post Master wants them to order them in the increasing order of their weights, but he wants to keep the heaviest (and presumably the most valuable) parcel nearest to his office.\n",
    "You and your friend try to arrange these boxes, and you decide to arrange them by interchanging two boxes at a time. Such replacement needs effort equal to the product of the weights of the two boxes which are exchanged. \n",
    "The goal is to reposition the boxes as required with minimum effort.\n",
    "Input\n",
    "The first line consists of two space-separated positive integers number of boxes (N) and the position of the Head Post Master's office (k), respectively. The value of k represents where the heaviest box should be placed.\n",
    "The second line contains N space-separated positive integers, i.e., the weights of the boxes. Assume that no two weights are equal.\n",
    "Output\n",
    "The output is the minimum total effort taken to get the boxes in sorted order and the heaviest in position k.\n",
    "Constraints\n",
    "N<=50\n",
    "Weights <= 1000\n",
    "Time Limit (secs)\n",
    "1\n",
    "\n",
    "Solution : https://www.youtube.com/watch?v=Y0lT9Fck7qI"
   ]
  },
  {
   "cell_type": "code",
   "execution_count": null,
   "metadata": {},
   "outputs": [],
   "source": [
    "def climbStairs(n: int) -> int:\n",
    "    one , two = 1,1\n",
    "    for i in range(n-1):\n",
    "        temp = one\n",
    "        one = one + two\n",
    "        two = temp\n",
    "    return one\n",
    "lenth = int(input(\"Enter the length: \"))\n",
    "climbStairs(lenth)"
   ]
  },
  {
   "attachments": {},
   "cell_type": "markdown",
   "metadata": {},
   "source": [
    "Problem Statement No. 2 :\n",
    "\n",
    "There are ‘S’ seats divided into ‘M’ blocks in a Stadium. The first block of seats is dry, and each block after that alternates between dry and wet. There N number of people that need to be seated. Everyone wants to sit on a dry seat. But there are ‘k’ persons who can also sit on a wet seat. \n",
    "Your task is to seat N people to minimize the distance between the leftmost and the rightmost person. Also, there should not be any block of 15 or more unoccupied seats between the leftmost and rightmost person.\n",
    "\n",
    "INPUT \n",
    "S = 100, N = 50, k = 5, M = 6\n",
    "Seatblocks = [3, 10, 30, 5, 30, 22]\n",
    "\n",
    "OUTPUT\n",
    "49\n",
    "Explanation\n",
    "We can place 30 people in seats 14 to 43(in the dry block), 5 people ready to sit on a wet seat from 44 to 48 and the remaining 15 people can sit on 49 to 63. So the distance between the leftmost and the rightmost is 49.\n",
    "s"
   ]
  }
 ],
 "metadata": {
  "language_info": {
   "name": "python"
  },
  "orig_nbformat": 4
 },
 "nbformat": 4,
 "nbformat_minor": 2
}
