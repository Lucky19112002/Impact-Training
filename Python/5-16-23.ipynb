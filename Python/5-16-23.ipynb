{
 "cells": [
  {
   "attachments": {},
   "cell_type": "markdown",
   "metadata": {},
   "source": [
    "zeros in left\n",
    "ones in right \n",
    "binary input"
   ]
  },
  {
   "cell_type": "code",
   "execution_count": null,
   "metadata": {},
   "outputs": [],
   "source": [
    "def suffle(arr,n):\n",
    "    count = 0 \n",
    "    for i in range(0, n) :\n",
    "        if (arr[i] == 0) :\n",
    "            count = count + 1\n",
    "    for i in range(0, count) :\n",
    "        arr[i] = 0\n",
    "    \n",
    "    for i in range(count, n) :\n",
    "        arr[i] = 1\n",
    "    \n",
    "    print( \"Array after segregation is \",end = \"\")\n",
    "    for i in range(0, n) :\n",
    "        print(arr[i] , end = \" \")\n",
    "a = list(map(int,input().split(\" \")))\n",
    "#suffle(a,len(a))\n",
    "a.sort(key=lambda v:v!=0)\n",
    "print(a)"
   ]
  },
  {
   "attachments": {},
   "cell_type": "markdown",
   "metadata": {},
   "source": [
    "even or odd without modulo (%)"
   ]
  },
  {
   "cell_type": "code",
   "execution_count": 27,
   "metadata": {},
   "outputs": [
    {
     "name": "stdout",
     "output_type": "stream",
     "text": [
      "Positive\n"
     ]
    }
   ],
   "source": [
    "def evenOrOdd(a):\n",
    "    if (a & 1 == 0):\n",
    "        print(\"Positive\")\n",
    "    else:\n",
    "        print(\"Negative\")\n",
    "\n",
    "a = int(input())\n",
    "evenOrOdd(a)\n"
   ]
  },
  {
   "attachments": {},
   "cell_type": "markdown",
   "metadata": {},
   "source": [
    "add two number without using arithmatic operator"
   ]
  },
  {
   "cell_type": "code",
   "execution_count": 38,
   "metadata": {},
   "outputs": [
    {
     "name": "stdout",
     "output_type": "stream",
     "text": [
      "30\n"
     ]
    }
   ],
   "source": [
    "def addWithoutOperator(a,b):\n",
    "    c = (a-(~b)-1)\n",
    "    \"\"\"while (b != 0):\n",
    "        carry = a & b \n",
    "        a = a ^ b\n",
    "        b = carry << 1\n",
    "    print(a)\"\"\"\n",
    "    print(c)\n",
    "b,c= int(input()) , int(input())\n",
    "addWithoutOperator(b,c)"
   ]
  },
  {
   "attachments": {},
   "cell_type": "markdown",
   "metadata": {},
   "source": [
    "Singel Inheritent"
   ]
  },
  {
   "cell_type": "code",
   "execution_count": 39,
   "metadata": {},
   "outputs": [
    {
     "name": "stdout",
     "output_type": "stream",
     "text": [
      "reading book\n",
      "Seleting book\n"
     ]
    }
   ],
   "source": [
    "class book:\n",
    "    def select(self):\n",
    "        print(\"Seleting book\")\n",
    "class liberiery(book):\n",
    "        def read(self):\n",
    "            print(\"reading book\")\n",
    "\n",
    "l = liberiery()\n",
    "l.read()\n",
    "l.select()"
   ]
  },
  {
   "attachments": {},
   "cell_type": "markdown",
   "metadata": {},
   "source": [
    "Mutilevel Inheritent"
   ]
  },
  {
   "cell_type": "code",
   "execution_count": 40,
   "metadata": {},
   "outputs": [
    {
     "name": "stdout",
     "output_type": "stream",
     "text": [
      "HI\n",
      "HELLOW\n",
      "Demo Apple\n"
     ]
    }
   ],
   "source": [
    "class A:\n",
    "    def firdt(self):\n",
    "        print(\"HI\")\n",
    "class B(A):\n",
    "    def second(self):\n",
    "        print(\"HELLOW\")\n",
    "class C(B):\n",
    "    def thired(self):\n",
    "        print(\"Demo Apple\")\n",
    "aa = C()\n",
    "aa.firdt()\n",
    "aa.second()\n",
    "aa.thired()\n"
   ]
  },
  {
   "attachments": {},
   "cell_type": "markdown",
   "metadata": {},
   "source": [
    "Multipel Inheritent"
   ]
  },
  {
   "cell_type": "code",
   "execution_count": 41,
   "metadata": {},
   "outputs": [
    {
     "name": "stdout",
     "output_type": "stream",
     "text": [
      "30\n",
      "-10\n",
      "0.5\n"
     ]
    }
   ],
   "source": [
    "class cal1():\n",
    "    def apption(self,a,b):\n",
    "        return(a+b)\n",
    "class cal2():\n",
    "    def substraction(self,a,b):\n",
    "        return a-b\n",
    "class cal3(cal1,cal2):\n",
    "    def division(self,a,b):\n",
    "        return a/b\n",
    "d = cal3()\n",
    "print(d.apption(10,20))\n",
    "print(d.substraction(10,20))\n",
    "print(d.division(10,20))"
   ]
  },
  {
   "cell_type": "code",
   "execution_count": null,
   "metadata": {},
   "outputs": [],
   "source": []
  }
 ],
 "metadata": {
  "kernelspec": {
   "display_name": "Python 3",
   "language": "python",
   "name": "python3"
  },
  "language_info": {
   "codemirror_mode": {
    "name": "ipython",
    "version": 3
   },
   "file_extension": ".py",
   "mimetype": "text/x-python",
   "name": "python",
   "nbconvert_exporter": "python",
   "pygments_lexer": "ipython3",
   "version": "3.11.1"
  },
  "orig_nbformat": 4
 },
 "nbformat": 4,
 "nbformat_minor": 2
}
