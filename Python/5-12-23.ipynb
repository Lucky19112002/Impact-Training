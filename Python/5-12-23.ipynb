{
 "cells": [
  {
   "attachments": {},
   "cell_type": "markdown",
   "metadata": {},
   "source": [
    "Problem Statement No. : 01\n",
    "\n",
    "There is a mess in the parcel section of the Head Office. The parcels that have to be loaded in the vans are lined up in a row randomly. The Head Post Master wants them to order them in the increasing order of their weights, but he wants to keep the heaviest (and presumably the most valuable) parcel nearest to his office.\n",
    "You and your friend try to arrange these boxes, and you decide to arrange them by interchanging two boxes at a time. Such replacement needs effort equal to the product of the weights of the two boxes which are exchanged. \n",
    "The goal is to reposition the boxes as required with minimum effort.\n",
    "\n",
    "Input :\n",
    "\n",
    "The first line consists of two space-separated positive integers number of boxes (N) and the position of the Head Post Master's office (k), respectively. The value of k represents where the heaviest box should be placed.\n",
    "The second line contains N space-separated positive integers, i.e., the weights of the boxes. Assume that no two weights are equal.\n"
   ]
  },
  {
   "cell_type": "code",
   "execution_count": 36,
   "metadata": {},
   "outputs": [
    {
     "name": "stdout",
     "output_type": "stream",
     "text": [
      "[20, 50, 30, 80, 70]\n",
      "1000\n",
      "1600\n",
      "Office Loaction is : 1\n",
      "MAximium weigth parcel is : 80\n",
      "office  and weight are now on same place :\n",
      "[50, 80, 30, 20, 70]\n",
      "Efffot: 2600\n"
     ]
    }
   ],
   "source": [
    "def shorting(n,office,array):\n",
    "    #array = sorted(array)\n",
    "    office -=1\n",
    "    min_weight = min(array)\n",
    "    max_weight = max(array)\n",
    "    office_weight = array[office]\n",
    "    min_index= array.index(min_weight)\n",
    "    max_index= array.index(max_weight)\n",
    "    print(array)\n",
    "    effort = effort1 = 0\n",
    "    if max_weight != office:\n",
    "        effort1 = min_weight * office_weight\n",
    "        array[min_index],array[office] = array[office], array[min_index]\n",
    "        print(effort1)\n",
    "        #print(array)\n",
    "        office_weight = array[office]    \n",
    "    effort2 =  (office_weight * max_weight)\n",
    "    print(effort2)\n",
    "    effort = effort1 +effort2   \n",
    "    array[office],array[max_index] = array[max_index],array[office]\n",
    "    #print(array)\n",
    "\n",
    "    \n",
    "    print(\"Office Loaction is :\",office)\n",
    "    print(\"MAximium weigth parcel is :\",max_weight)\n",
    "    \n",
    "    print(\"office  and weight are now on same place :\")\n",
    "    \n",
    "    print(array)\n",
    "    print(\"Efffot:\",effort)\n",
    "\n",
    "paecel=[20,50,30,80,70]\n",
    "n = len(paecel)\n",
    "\"\"\"n = int(input(\"Enter the number of parcel :\"))\n",
    "for i in range(n):\n",
    "    print(\"Enter weight for \",i,\"parcel\")\n",
    "    weight = int(input())\n",
    "    paecel.append(weight)\n",
    "print(\"Your list of parcel is : \")\n",
    "print(paecel)\n",
    "office_location = int(input(\"Enter oflice location :\")) - 1\"\"\"\n",
    "shorting(n,2,paecel)\n"
   ]
  },
  {
   "cell_type": "code",
   "execution_count": 38,
   "metadata": {},
   "outputs": [
    {
     "ename": "ValueError",
     "evalue": "too many values to unpack (expected 2)",
     "output_type": "error",
     "traceback": [
      "\u001b[1;31m---------------------------------------------------------------------------\u001b[0m",
      "\u001b[1;31mValueError\u001b[0m                                Traceback (most recent call last)",
      "Cell \u001b[1;32mIn[38], line 1\u001b[0m\n\u001b[1;32m----> 1\u001b[0m n, k \u001b[39m=\u001b[39m \u001b[39mmap\u001b[39m(\u001b[39mint\u001b[39m, \u001b[39minput\u001b[39m()\u001b[39m.\u001b[39msplit())\n\u001b[0;32m      2\u001b[0m weights \u001b[39m=\u001b[39m \u001b[39mlist\u001b[39m(\u001b[39mmap\u001b[39m(\u001b[39mint\u001b[39m, \u001b[39minput\u001b[39m()\u001b[39m.\u001b[39msplit()))\n\u001b[0;32m      4\u001b[0m heaviest_index \u001b[39m=\u001b[39m weights\u001b[39m.\u001b[39mindex(\u001b[39mmax\u001b[39m(weights))\n",
      "\u001b[1;31mValueError\u001b[0m: too many values to unpack (expected 2)"
     ]
    }
   ],
   "source": [
    "n, k = map(int, input().split())\n",
    "weights = list(map(int, input().split()))\n",
    "\n",
    "heaviest_index = weights.index(max(weights))\n",
    "\n",
    "total_effort = 0\n",
    "\n",
    "if heaviest_index != k:\n",
    "    weights[k], weights[heaviest_index] = weights[heaviest_index], weights[k]\n",
    "    total_effort = weights[k] * weights[heaviest_index]\n",
    "\n",
    "for i in range(n - 1):\n",
    "    min_index = i\n",
    "    for j in range(i + 1, n):\n",
    "        if weights[j] < weights[min_index]:\n",
    "            min_index = j\n",
    "    if i != min_index:\n",
    "        weights[i], weights[min_index] = weights[min_index], weights[i]\n",
    "        total_effort += weights[i] * weights[min_index]\n",
    "\n",
    "print(total_effort)\n"
   ]
  },
  {
   "attachments": {},
   "cell_type": "markdown",
   "metadata": {},
   "source": [
    "Pyhton Function\n",
    "\n",
    "1. Default Fucntion"
   ]
  },
  {
   "cell_type": "code",
   "execution_count": 4,
   "metadata": {},
   "outputs": [
    {
     "name": "stdout",
     "output_type": "stream",
     "text": [
      "x : 10\n",
      "y : 50\n",
      "x : 10\n",
      "y : 60\n"
     ]
    }
   ],
   "source": [
    "def myFun(x,y=50):\n",
    "    #y = 50 means -> if y has defult valuse if not defined\n",
    "    print(\"x :\",x)\n",
    "    print(\"y :\",y)\n",
    "\n",
    "myFun(10)\n",
    "myFun(10,60)"
   ]
  }
 ],
 "metadata": {
  "kernelspec": {
   "display_name": "Python 3",
   "language": "python",
   "name": "python3"
  },
  "language_info": {
   "codemirror_mode": {
    "name": "ipython",
    "version": 3
   },
   "file_extension": ".py",
   "mimetype": "text/x-python",
   "name": "python",
   "nbconvert_exporter": "python",
   "pygments_lexer": "ipython3",
   "version": "3.11.1"
  },
  "orig_nbformat": 4
 },
 "nbformat": 4,
 "nbformat_minor": 2
}
